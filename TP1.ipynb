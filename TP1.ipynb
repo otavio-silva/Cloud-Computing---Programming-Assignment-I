{
 "cells": [
  {
   "cell_type": "markdown",
   "metadata": {},
   "source": [
    "# Cloud Computing\n",
    "## Programming Assignment I - Spark"
   ]
  },
  {
   "cell_type": "code",
   "execution_count": 1,
   "metadata": {},
   "outputs": [],
   "source": [
    "import os\n",
    "import sys\n",
    "import seaborn as sns\n",
    "from pyspark.sql import functions\n",
    "from matplotlib import pyplot as plt"
   ]
  },
  {
   "cell_type": "code",
   "execution_count": 2,
   "metadata": {},
   "outputs": [],
   "source": [
    "from pyspark.sql import SparkSession"
   ]
  },
  {
   "cell_type": "code",
   "execution_count": 3,
   "metadata": {},
   "outputs": [],
   "source": [
    "os.environ[\"JAVA_HOME\"] = \"/usr/lib/jvm/java-8-openjdk-amd64\"\n",
    "os.environ[\"HADOOP_INSTALL\"] = \"/home/hadoop/hadoop\"\n",
    "os.environ[\"HADOOP_HOME\"] = os.environ[\"HADOOP_INSTALL\"]\n",
    "os.environ[\"HADOOP_MAPRED_HOME\"] = os.environ[\"HADOOP_INSTALL\"]\n",
    "os.environ[\"HADOOP_COMMON_HOME\"] = os.environ[\"HADOOP_INSTALL\"]\n",
    "os.environ[\"HADOOP_HDFS_HOME\"] = os.environ[\"HADOOP_INSTALL\"]\n",
    "os.environ[\"HADOOP_YARN_HOME\"] = os.environ[\"HADOOP_INSTALL\"]\n",
    "os.environ[\"HADOOP_CONF_DIR\"] = os.path.join(os.environ[\"HADOOP_INSTALL\"], \"/etc/hadoop\")\n",
    "os.environ[\"SPARK_HOME\"] = \"/home/hadoop/spark\"\n",
    "sys.path.insert(0, os.path.join(os.environ[\"SPARK_HOME\"], \"python\"))\n",
    "sys.path.append(os.path.join(os.environ[\"SPARK_HOME\"], \"python/lib/py4j-0.10.9.2-src.zip\"))"
   ]
  },
  {
   "cell_type": "code",
   "execution_count": 4,
   "metadata": {},
   "outputs": [],
   "source": [
    "sns.set_style(\"darkgrid\")"
   ]
  },
  {
   "cell_type": "code",
   "execution_count": 5,
   "metadata": {},
   "outputs": [],
   "source": [
    "SPARK_EXEC_INSTANCES = \"2\"\n",
    "SPARK_EXEC_CORES = \"2\"\n",
    "SPARK_MEM = \"512M\""
   ]
  },
  {
   "cell_type": "code",
   "execution_count": 6,
   "metadata": {},
   "outputs": [
    {
     "name": "stderr",
     "output_type": "stream",
     "text": [
      "2023-09-25 23:02:53,733 WARN util.Utils: Your hostname, cloud resolves to a loopback address: 127.0.2.1; using 192.168.121.62 instead (on interface eth0)\n",
      "2023-09-25 23:02:53,734 WARN util.Utils: Set SPARK_LOCAL_IP if you need to bind to another address\n",
      "WARNING: An illegal reflective access operation has occurred\n",
      "WARNING: Illegal reflective access by org.apache.spark.unsafe.Platform (file:/home/hadoop/spark-3.2.0-bin-hadoop3.2/jars/spark-unsafe_2.12-3.2.0.jar) to constructor java.nio.DirectByteBuffer(long,int)\n",
      "WARNING: Please consider reporting this to the maintainers of org.apache.spark.unsafe.Platform\n",
      "WARNING: Use --illegal-access=warn to enable warnings of further illegal reflective access operations\n",
      "WARNING: All illegal access operations will be denied in a future release\n",
      "Setting default log level to \"WARN\".\n",
      "To adjust logging level use sc.setLogLevel(newLevel). For SparkR, use setLogLevel(newLevel).\n",
      "2023-09-25 23:02:54,895 WARN util.NativeCodeLoader: Unable to load native-hadoop library for your platform... using builtin-java classes where applicable\n",
      "2023-09-25 23:02:56,673 WARN util.Utils: Service 'SparkUI' could not bind on port 4040. Attempting port 4041.\n",
      "2023-09-25 23:02:56,674 WARN util.Utils: Service 'SparkUI' could not bind on port 4041. Attempting port 4042.\n",
      "2023-09-25 23:02:56,674 WARN util.Utils: Service 'SparkUI' could not bind on port 4042. Attempting port 4043.\n",
      "2023-09-25 23:02:56,675 WARN util.Utils: Service 'SparkUI' could not bind on port 4043. Attempting port 4044.\n",
      "2023-09-25 23:02:56,675 WARN util.Utils: Service 'SparkUI' could not bind on port 4044. Attempting port 4045.\n"
     ]
    }
   ],
   "source": [
    "spark = SparkSession.Builder().appName(\"Cloud Computing TP1\").config(\"spark.executor.instances\", SPARK_EXEC_INSTANCES).config(\"spark.executor.cores\", SPARK_EXEC_CORES).config(\"spark.executor.memory\", SPARK_MEM).getOrCreate()\n",
    "sc = spark.sparkContext"
   ]
  },
  {
   "cell_type": "code",
   "execution_count": 7,
   "metadata": {},
   "outputs": [
    {
     "name": "stdout",
     "output_type": "stream",
     "text": [
      "http://192.168.121.62:4045\n"
     ]
    }
   ],
   "source": [
    "print(sc.uiWebUrl)"
   ]
  },
  {
   "cell_type": "code",
   "execution_count": 8,
   "metadata": {},
   "outputs": [
    {
     "name": "stderr",
     "output_type": "stream",
     "text": [
      "                                                                                \r"
     ]
    }
   ],
   "source": [
    "tracks = spark.read.json(\"hdfs:/datasets/spotify/tracks.json\")"
   ]
  },
  {
   "cell_type": "code",
   "execution_count": 9,
   "metadata": {},
   "outputs": [
    {
     "name": "stdout",
     "output_type": "stream",
     "text": [
      "+--------------------------------------------+------------------------------------+------------------+-------------------------------------+-----------+---+---+------------------------------------------+------------------------------------+\n",
      "|album_name                                  |album_uri                           |artist_name       |artist_uri                           |duration_ms|pid|pos|track_name                                |track_uri                           |\n",
      "+--------------------------------------------+------------------------------------+------------------+-------------------------------------+-----------+---+---+------------------------------------------+------------------------------------+\n",
      "|The Cookbook                                |spotify:album:6vV5UrXcfyQD1wu4Qo2I9K|Missy Elliott     |spotify:artist:2wIVse2owClT7go1WT98tk|226863     |0  |0  |Lose Control (feat. Ciara & Fat Man Scoop)|spotify:track:0UaMYEvWZi0ZqiDOoHU3YI|\n",
      "|In The Zone                                 |spotify:album:0z7pVBGOD7HCIB7S8eLkLI|Britney Spears    |spotify:artist:26dSoYclwsYLMAKD3tpOr4|198800     |0  |1  |Toxic                                     |spotify:track:6I9VzXrHxO9rA9A5euc8Ak|\n",
      "|Dangerously In Love (Alben für die Ewigkeit)|spotify:album:25hVFAxTlDvXbx2X2QkUkE|Beyoncé           |spotify:artist:6vWDO969PvNqNYHIOW5v0m|235933     |0  |2  |Crazy In Love                             |spotify:track:0WqIKmW4BTrj3eJFmnCKMv|\n",
      "|Justified                                   |spotify:album:6QPkyl04rXwTGlGlcYaRoW|Justin Timberlake |spotify:artist:31TPClRtHm23RisEBtV3X7|267266     |0  |3  |Rock Your Body                            |spotify:track:1AWQoqb9bSvzTjaLralEkT|\n",
      "|Hot Shot                                    |spotify:album:6NmFmPX56pcLBOFMhIiKvF|Shaggy            |spotify:artist:5EvFsr3kj42KNv97ZEnqij|227600     |0  |4  |It Wasn't Me                              |spotify:track:1lzr43nnXAijIGYnCT8M8H|\n",
      "|Confessions                                 |spotify:album:0vO0b1AvY49CPQyVisJLj0|Usher             |spotify:artist:23zg3TcAtWQy7J6upgbUnj|250373     |0  |5  |Yeah!                                     |spotify:track:0XUfyU2QviPAs6bxSpXYG4|\n",
      "|Confessions                                 |spotify:album:1RM6MGv6bcl6NrAG8PGoZk|Usher             |spotify:artist:23zg3TcAtWQy7J6upgbUnj|223440     |0  |6  |My Boo                                    |spotify:track:68vgtRHr7iZHpzGpon6Jlo|\n",
      "|PCD                                         |spotify:album:5x8e8UcCeOgrOzSnDGuPye|The Pussycat Dolls|spotify:artist:6wPhSqRtPu1UhRCDX5yaDJ|225560     |0  |7  |Buttons                                   |spotify:track:3BxWKCI06eQ5Od8TY2JBeA|\n",
      "|The Writing's On The Wall                   |spotify:album:283NWqNsCA9GwVHrJk59CG|Destiny's Child   |spotify:artist:1Y8cdNmUJH7yBTd9yOvr5i|271333     |0  |8  |Say My Name                               |spotify:track:7H6ev70Weq6DdpZyyTmUXk|\n",
      "|Speakerboxxx/The Love Below                 |spotify:album:1UsmQ3bpJTyK6ygoOOjG1r|OutKast           |spotify:artist:1G9G7WwrXka3Z1r7aIDjI7|235213     |0  |9  |Hey Ya! - Radio Mix / Club Mix            |spotify:track:2PpruBYCo4H7WOBJ7Q2EwM|\n",
      "+--------------------------------------------+------------------------------------+------------------+-------------------------------------+-----------+---+---+------------------------------------------+------------------------------------+\n",
      "only showing top 10 rows\n",
      "\n"
     ]
    }
   ],
   "source": [
    "tracks.show(10, truncate=False)"
   ]
  },
  {
   "cell_type": "code",
   "execution_count": 10,
   "metadata": {},
   "outputs": [
    {
     "name": "stderr",
     "output_type": "stream",
     "text": [
      "                                                                                \r"
     ]
    }
   ],
   "source": [
    "tracks_shape = (tracks.count(), len(tracks.columns))"
   ]
  },
  {
   "cell_type": "code",
   "execution_count": 11,
   "metadata": {},
   "outputs": [
    {
     "name": "stderr",
     "output_type": "stream",
     "text": [
      "                                                                                \r"
     ]
    }
   ],
   "source": [
    "playlist = spark.read.json(\"hdfs:/datasets/spotify/playlist.json\")"
   ]
  },
  {
   "cell_type": "code",
   "execution_count": 12,
   "metadata": {},
   "outputs": [
    {
     "name": "stdout",
     "output_type": "stream",
     "text": [
      "+-------------+-----------+-----------+-----------+--------------------+----------+-----------+---------+-------------+----------+---+\n",
      "|collaborative|description|duration_ms|modified_at|name                |num_albums|num_artists|num_edits|num_followers|num_tracks|pid|\n",
      "+-------------+-----------+-----------+-----------+--------------------+----------+-----------+---------+-------------+----------+---+\n",
      "|false        |null       |11532414   |1493424000 |Throwbacks          |47        |37         |6        |1            |52        |0  |\n",
      "|false        |null       |11656470   |1506556800 |Awesome Playlist    |23        |21         |5        |1            |39        |1  |\n",
      "|false        |null       |14039958   |1505692800 |korean              |51        |31         |18       |1            |64        |2  |\n",
      "|false        |null       |28926058   |1501027200 |mat                 |107       |86         |4        |1            |126       |3  |\n",
      "|false        |null       |4335282    |1401667200 |90s                 |16        |16         |7        |2            |17        |4  |\n",
      "|false        |null       |19156557   |1430956800 |Wedding             |71        |56         |3        |1            |80        |5  |\n",
      "|false        |null       |3408479    |1477094400 |I Put A Spell On You|15        |13         |2        |1            |16        |6  |\n",
      "|false        |null       |12674796   |1509321600 |2017                |52        |48         |38       |1            |53        |7  |\n",
      "|false        |null       |9948921    |1508976000 |BOP                 |37        |23         |21       |2            |46        |8  |\n",
      "|false        |null       |4297488    |1501804800 |old country         |20        |18         |10       |1            |21        |9  |\n",
      "+-------------+-----------+-----------+-----------+--------------------+----------+-----------+---------+-------------+----------+---+\n",
      "only showing top 10 rows\n",
      "\n"
     ]
    }
   ],
   "source": [
    "playlist.show(10, truncate=False)"
   ]
  },
  {
   "cell_type": "code",
   "execution_count": 13,
   "metadata": {},
   "outputs": [],
   "source": [
    "playlist_shape = (playlist.count(), len(playlist.columns))"
   ]
  },
  {
   "cell_type": "markdown",
   "metadata": {},
   "source": [
    "## Task 1"
   ]
  },
  {
   "cell_type": "code",
   "execution_count": 14,
   "metadata": {},
   "outputs": [
    {
     "name": "stderr",
     "output_type": "stream",
     "text": [
      "[Stage 10:=================================================>      (21 + 3) / 24]\r"
     ]
    },
    {
     "name": "stdout",
     "output_type": "stream",
     "text": [
      "+----------------+----------------+------------------+\n",
      "|min(duration_ms)|max(duration_ms)|  avg(duration_ms)|\n",
      "+----------------+----------------+------------------+\n",
      "|               0|        10435467|234408.54976216817|\n",
      "+----------------+----------------+------------------+\n",
      "\n"
     ]
    },
    {
     "name": "stderr",
     "output_type": "stream",
     "text": [
      "                                                                                \r"
     ]
    }
   ],
   "source": [
    "tracks.select(functions.min(\"duration_ms\"), functions.max(\"duration_ms\"), functions.mean(\"duration_ms\")).show()"
   ]
  },
  {
   "cell_type": "code",
   "execution_count": 15,
   "metadata": {},
   "outputs": [
    {
     "name": "stderr",
     "output_type": "stream",
     "text": [
      "                                                                                \r"
     ]
    }
   ],
   "source": [
    "quantile25, quantile75 = tracks.approxQuantile(\"duration_ms\", (0.25, 0.75), 0.001)"
   ]
  },
  {
   "cell_type": "code",
   "execution_count": 16,
   "metadata": {},
   "outputs": [],
   "source": [
    "iqr = quantile75 - quantile25"
   ]
  },
  {
   "cell_type": "code",
   "execution_count": 17,
   "metadata": {},
   "outputs": [
    {
     "name": "stderr",
     "output_type": "stream",
     "text": [
      "/home/otviosilva/mambaforge/envs/cloud-comp-spark3.2.0/lib/python3.11/site-packages/seaborn/_oldcore.py:1498: FutureWarning: is_categorical_dtype is deprecated and will be removed in a future version. Use isinstance(dtype, CategoricalDtype) instead\n",
      "  if pd.api.types.is_categorical_dtype(vector):\n",
      "/home/otviosilva/mambaforge/envs/cloud-comp-spark3.2.0/lib/python3.11/site-packages/seaborn/_oldcore.py:1498: FutureWarning: is_categorical_dtype is deprecated and will be removed in a future version. Use isinstance(dtype, CategoricalDtype) instead\n",
      "  if pd.api.types.is_categorical_dtype(vector):\n",
      "/home/otviosilva/mambaforge/envs/cloud-comp-spark3.2.0/lib/python3.11/site-packages/seaborn/_oldcore.py:1765: FutureWarning: unique with argument that is not not a Series, Index, ExtensionArray, or np.ndarray is deprecated and will raise in a future version.\n",
      "  order = pd.unique(vector)\n",
      "/home/otviosilva/mambaforge/envs/cloud-comp-spark3.2.0/lib/python3.11/site-packages/seaborn/_oldcore.py:1498: FutureWarning: is_categorical_dtype is deprecated and will be removed in a future version. Use isinstance(dtype, CategoricalDtype) instead\n",
      "  if pd.api.types.is_categorical_dtype(vector):\n"
     ]
    },
    {
     "data": {
      "image/png": "[encoded data removed]",
      "text/plain": [
       "<Figure size 640x480 with 1 Axes>"
      ]
     },
     "metadata": {},
     "output_type": "display_data"
    }
   ],
   "source": [
    "sns.barplot(y=[\"25%\", \"75%\"], x=[quantile25 / 60000., quantile75 / 60000.], orient=\"h\")\n",
    "plt.xlabel(\"Duration (minutes)\")\n",
    "plt.ylabel(\"Percent\")\n",
    "plt.title(\"Song Duration\")\n",
    "plt.show()"
   ]
  },
  {
   "cell_type": "code",
   "execution_count": 18,
   "metadata": {},
   "outputs": [
    {
     "data": {
      "text/plain": [
       "(198320.0, 258826.0, 60506.0)"
      ]
     },
     "execution_count": 18,
     "metadata": {},
     "output_type": "execute_result"
    }
   ],
   "source": [
    "(quantile25, quantile75, iqr)"
   ]
  },
  {
   "cell_type": "code",
   "execution_count": 19,
   "metadata": {},
   "outputs": [],
   "source": [
    "filtered = tracks[(quantile25 - 1.5 * iqr < tracks[\"duration_ms\"]) & (tracks[\"duration_ms\"] < quantile75 + 1.5 * iqr)]"
   ]
  },
  {
   "cell_type": "code",
   "execution_count": 20,
   "metadata": {},
   "outputs": [
    {
     "name": "stdout",
     "output_type": "stream",
     "text": [
      "+--------------------------------------------+------------------------------------+------------------+-------------------------------------+-----------+---+---+------------------------------------------+------------------------------------+\n",
      "|album_name                                  |album_uri                           |artist_name       |artist_uri                           |duration_ms|pid|pos|track_name                                |track_uri                           |\n",
      "+--------------------------------------------+------------------------------------+------------------+-------------------------------------+-----------+---+---+------------------------------------------+------------------------------------+\n",
      "|The Cookbook                                |spotify:album:6vV5UrXcfyQD1wu4Qo2I9K|Missy Elliott     |spotify:artist:2wIVse2owClT7go1WT98tk|226863     |0  |0  |Lose Control (feat. Ciara & Fat Man Scoop)|spotify:track:0UaMYEvWZi0ZqiDOoHU3YI|\n",
      "|In The Zone                                 |spotify:album:0z7pVBGOD7HCIB7S8eLkLI|Britney Spears    |spotify:artist:26dSoYclwsYLMAKD3tpOr4|198800     |0  |1  |Toxic                                     |spotify:track:6I9VzXrHxO9rA9A5euc8Ak|\n",
      "|Dangerously In Love (Alben für die Ewigkeit)|spotify:album:25hVFAxTlDvXbx2X2QkUkE|Beyoncé           |spotify:artist:6vWDO969PvNqNYHIOW5v0m|235933     |0  |2  |Crazy In Love                             |spotify:track:0WqIKmW4BTrj3eJFmnCKMv|\n",
      "|Justified                                   |spotify:album:6QPkyl04rXwTGlGlcYaRoW|Justin Timberlake |spotify:artist:31TPClRtHm23RisEBtV3X7|267266     |0  |3  |Rock Your Body                            |spotify:track:1AWQoqb9bSvzTjaLralEkT|\n",
      "|Hot Shot                                    |spotify:album:6NmFmPX56pcLBOFMhIiKvF|Shaggy            |spotify:artist:5EvFsr3kj42KNv97ZEnqij|227600     |0  |4  |It Wasn't Me                              |spotify:track:1lzr43nnXAijIGYnCT8M8H|\n",
      "|Confessions                                 |spotify:album:0vO0b1AvY49CPQyVisJLj0|Usher             |spotify:artist:23zg3TcAtWQy7J6upgbUnj|250373     |0  |5  |Yeah!                                     |spotify:track:0XUfyU2QviPAs6bxSpXYG4|\n",
      "|Confessions                                 |spotify:album:1RM6MGv6bcl6NrAG8PGoZk|Usher             |spotify:artist:23zg3TcAtWQy7J6upgbUnj|223440     |0  |6  |My Boo                                    |spotify:track:68vgtRHr7iZHpzGpon6Jlo|\n",
      "|PCD                                         |spotify:album:5x8e8UcCeOgrOzSnDGuPye|The Pussycat Dolls|spotify:artist:6wPhSqRtPu1UhRCDX5yaDJ|225560     |0  |7  |Buttons                                   |spotify:track:3BxWKCI06eQ5Od8TY2JBeA|\n",
      "|The Writing's On The Wall                   |spotify:album:283NWqNsCA9GwVHrJk59CG|Destiny's Child   |spotify:artist:1Y8cdNmUJH7yBTd9yOvr5i|271333     |0  |8  |Say My Name                               |spotify:track:7H6ev70Weq6DdpZyyTmUXk|\n",
      "|Speakerboxxx/The Love Below                 |spotify:album:1UsmQ3bpJTyK6ygoOOjG1r|OutKast           |spotify:artist:1G9G7WwrXka3Z1r7aIDjI7|235213     |0  |9  |Hey Ya! - Radio Mix / Club Mix            |spotify:track:2PpruBYCo4H7WOBJ7Q2EwM|\n",
      "+--------------------------------------------+------------------------------------+------------------+-------------------------------------+-----------+---+---+------------------------------------------+------------------------------------+\n",
      "only showing top 10 rows\n",
      "\n"
     ]
    }
   ],
   "source": [
    "filtered.show(10, truncate=False)"
   ]
  },
  {
   "cell_type": "code",
   "execution_count": 21,
   "metadata": {},
   "outputs": [],
   "source": [
    "outliers = tracks.subtract(filtered)"
   ]
  },
  {
   "cell_type": "code",
   "execution_count": 22,
   "metadata": {},
   "outputs": [
    {
     "name": "stderr",
     "output_type": "stream",
     "text": [
      "[Stage 16:===================================================>    (22 + 2) / 24]\r"
     ]
    },
    {
     "name": "stdout",
     "output_type": "stream",
     "text": [
      "+--------------------------------------------------------------------------------+------------------------------------+--------------------------+-------------------------------------+-----------+---+---+------------------------------------------+------------------------------------+\n",
      "|album_name                                                                      |album_uri                           |artist_name               |artist_uri                           |duration_ms|pid|pos|track_name                                |track_uri                           |\n",
      "+--------------------------------------------------------------------------------+------------------------------------+--------------------------+-------------------------------------+-----------+---+---+------------------------------------------+------------------------------------+\n",
      "|Appetite For Destruction                                                        |spotify:album:3I9Z1nDCL4E0cP62flcbI5|Guns N' Roses             |spotify:artist:3qm84nBOXUEQ2vnTfUTTFC|356080     |119|0  |Sweet Child O' Mine                       |spotify:track:7o2CTH4ctstm8TNelqjb51|\n",
      "|Brontosaurus                                                                    |spotify:album:4TP4fxDJUhtN1DrQRAnG7C|Da Vinci's Notebook       |spotify:artist:4rIDY3ojaWd7Z9ky9SFc1g|14720      |120|88 |A New Car                                 |spotify:track:2iq9JouHeGBsOT0XJwSlz2|\n",
      "|Live & Loud 2009                                                                |spotify:album:1v5jYYB9KiVQId7LXVQlwa|Buckcherry                |spotify:artist:0yN7xI1blow9nYIK0R8nM7|456760     |123|151|Crazy Bitch - Live                        |spotify:track:7BC9vMhl1DUAIh2pEpRkwn|\n",
      "|BEYONCÉ [Platinum Edition]                                                      |spotify:album:2UJwKSBUz6rtW4QLK74kQu|Beyoncé                   |spotify:artist:6vWDO969PvNqNYHIOW5v0m|391906     |156|13 |Rocket                                    |spotify:track:0755vnFQZLSgHHWbR1qCjY|\n",
      "|Give Me My Flowers While I Can Still Smell Them                                 |spotify:album:1EXBIXnbaOZx2ydlsGj3K8|Blu & Exile               |spotify:artist:567CChDKZrtF4rnk2r5JeP|95972      |169|37 |A Letter                                  |spotify:track:3b0tvkTkszyK6JrJj9HuwF|\n",
      "|FutureSex/LoveSounds                                                            |spotify:album:2scB1uhcCI1TSf6b9TCZK3|Justin Timberlake         |spotify:artist:31TPClRtHm23RisEBtV3X7|444333     |392|30 |LoveStoned / I Think She Knows (Interlude)|spotify:track:5iyE2d4U3Vc5cqY9mPTlpy|\n",
      "|Three Carols                                                                    |spotify:album:1hyLHd7CKmNjuFxojnA7Rg|The Wilderness of Manitoba|spotify:artist:5iiDMOV4u4LhRMqbCAepUM|100546     |644|2  |We Three Kings                            |spotify:track:7KNZboNCgQoODkmqr75huB|\n",
      "|Lauridsen: O Magnum Mysterium / Lux Aeterna / Madrigali / Les Chansons Des Roses|spotify:album:2KpDg5XbaWzQWepVfDpefT|Morten Lauridsen          |spotify:artist:4EV7a9KODMBPJTCgIl9Bmk|415800     |715|4  |O Magnum Mysterium: O magnum mysterium    |spotify:track:0S0YKiEdR9cT9pYgEaTevF|\n",
      "|Workout to the Running Cadences of the U.S. Navy Seals                          |spotify:album:5KfrZH31oPXCuiXLpBLWUT|The U.S. Navy Seals       |spotify:artist:0M1U7jlYhD3Uns4cx09UhN|36506      |719|85 |Running in the Arctic                     |spotify:track:6IPGXwYfDBxvhmCyhWiusc|\n",
      "|Kirk Franklin and the Family                                                    |spotify:album:4b1c7FWhyhIZ6OYINCx107|Kirk Franklin             |spotify:artist:4akybxRTGHJZ1DXjLhJ1qu|355160     |762|16 |Why We Sing                               |spotify:track:3NBygJfkCX6zbEUljzh2gv|\n",
      "+--------------------------------------------------------------------------------+------------------------------------+--------------------------+-------------------------------------+-----------+---+---+------------------------------------------+------------------------------------+\n",
      "only showing top 10 rows\n",
      "\n"
     ]
    },
    {
     "name": "stderr",
     "output_type": "stream",
     "text": [
      "                                                                                \r"
     ]
    }
   ],
   "source": [
    "outliers.show(10, truncate=False)"
   ]
  },
  {
   "cell_type": "code",
   "execution_count": 23,
   "metadata": {},
   "outputs": [
    {
     "name": "stderr",
     "output_type": "stream",
     "text": [
      "                                                                                \r"
     ]
    }
   ],
   "source": [
    "outliers_shape = (outliers.count(), len(outliers.columns))"
   ]
  },
  {
   "cell_type": "code",
   "execution_count": 24,
   "metadata": {},
   "outputs": [
    {
     "data": {
      "text/plain": [
       "(559968, 9)"
      ]
     },
     "execution_count": 24,
     "metadata": {},
     "output_type": "execute_result"
    }
   ],
   "source": [
    "outliers_shape"
   ]
  },
  {
   "cell_type": "code",
   "execution_count": 25,
   "metadata": {},
   "outputs": [
    {
     "name": "stderr",
     "output_type": "stream",
     "text": [
      "[Stage 25:=====================================================>  (23 + 1) / 24]\r"
     ]
    },
    {
     "name": "stdout",
     "output_type": "stream",
     "text": [
      "+----------------+----------------+------------------+\n",
      "|min(duration_ms)|max(duration_ms)|  avg(duration_ms)|\n",
      "+----------------+----------------+------------------+\n",
      "|               0|        10435467|371203.21056560375|\n",
      "+----------------+----------------+------------------+\n",
      "\n"
     ]
    },
    {
     "name": "stderr",
     "output_type": "stream",
     "text": [
      "                                                                                \r"
     ]
    }
   ],
   "source": [
    "outliers.select(functions.min(\"duration_ms\"), functions.max(\"duration_ms\"), functions.mean(\"duration_ms\")).show()"
   ]
  },
  {
   "cell_type": "markdown",
   "metadata": {},
   "source": [
    "## Task 2"
   ]
  },
  {
   "cell_type": "code",
   "execution_count": 14,
   "metadata": {},
   "outputs": [],
   "source": [
    "tracks.createOrReplaceTempView(\"Tracks\")\n",
    "top5 = spark.sql(\"select artist_name, count(pid) as pop_count from Tracks group by artist_name order by pop_count desc limit 5\")"
   ]
  },
  {
   "cell_type": "code",
   "execution_count": 15,
   "metadata": {},
   "outputs": [
    {
     "name": "stderr",
     "output_type": "stream",
     "text": [
      "[Stage 10:=====================================================>  (23 + 1) / 24]\r"
     ]
    },
    {
     "name": "stdout",
     "output_type": "stream",
     "text": [
      "+--------------+---------+\n",
      "|   artist_name|pop_count|\n",
      "+--------------+---------+\n",
      "|         Drake|   134998|\n",
      "|    Kanye West|    65906|\n",
      "|Kendrick Lamar|    55211|\n",
      "|       Rihanna|    54060|\n",
      "|    The Weeknd|    50357|\n",
      "+--------------+---------+\n",
      "\n"
     ]
    },
    {
     "name": "stderr",
     "output_type": "stream",
     "text": [
      "                                                                                \r"
     ]
    }
   ],
   "source": [
    "top5.show()"
   ]
  },
  {
   "cell_type": "code",
   "execution_count": 16,
   "metadata": {},
   "outputs": [
    {
     "name": "stderr",
     "output_type": "stream",
     "text": [
      "                                                                                \r"
     ]
    }
   ],
   "source": [
    "artists = [value[\"artist_name\"] for value in top5.select(\"artist_name\").collect()]\n",
    "counts = [value[\"pop_count\"] for value in top5.select(\"pop_count\").collect()]"
   ]
  },
  {
   "cell_type": "code",
   "execution_count": 17,
   "metadata": {},
   "outputs": [
    {
     "name": "stderr",
     "output_type": "stream",
     "text": [
      "/home/otviosilva/mambaforge/envs/cloud-comp-spark3.2.0/lib/python3.11/site-packages/seaborn/_oldcore.py:1498: FutureWarning: is_categorical_dtype is deprecated and will be removed in a future version. Use isinstance(dtype, CategoricalDtype) instead\n",
      "  if pd.api.types.is_categorical_dtype(vector):\n",
      "/home/otviosilva/mambaforge/envs/cloud-comp-spark3.2.0/lib/python3.11/site-packages/seaborn/_oldcore.py:1498: FutureWarning: is_categorical_dtype is deprecated and will be removed in a future version. Use isinstance(dtype, CategoricalDtype) instead\n",
      "  if pd.api.types.is_categorical_dtype(vector):\n",
      "/home/otviosilva/mambaforge/envs/cloud-comp-spark3.2.0/lib/python3.11/site-packages/seaborn/_oldcore.py:1765: FutureWarning: unique with argument that is not not a Series, Index, ExtensionArray, or np.ndarray is deprecated and will raise in a future version.\n",
      "  order = pd.unique(vector)\n",
      "/home/otviosilva/mambaforge/envs/cloud-comp-spark3.2.0/lib/python3.11/site-packages/seaborn/_oldcore.py:1498: FutureWarning: is_categorical_dtype is deprecated and will be removed in a future version. Use isinstance(dtype, CategoricalDtype) instead\n",
      "  if pd.api.types.is_categorical_dtype(vector):\n"
     ]
    },
    {
     "data": {
      "image/png": "[encoded data removed]",
      "text/plain": [
       "<Figure size 1200x600 with 1 Axes>"
      ]
     },
     "metadata": {},
     "output_type": "display_data"
    }
   ],
   "source": [
    "plt.figure(figsize=(12, 6))\n",
    "sns.barplot(x=artists, y=counts)\n",
    "plt.xlabel(\"Artist\")\n",
    "plt.ylabel(\"N° of tracks\")\n",
    "plt.title(\"Top Artists\")\n",
    "plt.show()"
   ]
  },
  {
   "cell_type": "code",
   "execution_count": 18,
   "metadata": {},
   "outputs": [],
   "source": [
    "formatted = playlist.select(functions.split(functions.from_unixtime(\"modified_at\"), '-').getItem(0))\n",
    "formatted = formatted.withColumnRenamed(formatted.columns[0], \"year\")\n",
    "playlist_with_year = playlist.join(formatted)"
   ]
  },
  {
   "cell_type": "code",
   "execution_count": 19,
   "metadata": {},
   "outputs": [
    {
     "name": "stdout",
     "output_type": "stream",
     "text": [
      "+-------------+-----------+-----------+-----------+----------+----------+-----------+---------+-------------+----------+---+----+\n",
      "|collaborative|description|duration_ms|modified_at|name      |num_albums|num_artists|num_edits|num_followers|num_tracks|pid|year|\n",
      "+-------------+-----------+-----------+-----------+----------+----------+-----------+---------+-------------+----------+---+----+\n",
      "|false        |null       |11532414   |1493424000 |Throwbacks|47        |37         |6        |1            |52        |0  |2017|\n",
      "|false        |null       |11532414   |1493424000 |Throwbacks|47        |37         |6        |1            |52        |0  |2017|\n",
      "|false        |null       |11532414   |1493424000 |Throwbacks|47        |37         |6        |1            |52        |0  |2017|\n",
      "|false        |null       |11532414   |1493424000 |Throwbacks|47        |37         |6        |1            |52        |0  |2017|\n",
      "|false        |null       |11532414   |1493424000 |Throwbacks|47        |37         |6        |1            |52        |0  |2014|\n",
      "|false        |null       |11532414   |1493424000 |Throwbacks|47        |37         |6        |1            |52        |0  |2015|\n",
      "|false        |null       |11532414   |1493424000 |Throwbacks|47        |37         |6        |1            |52        |0  |2016|\n",
      "|false        |null       |11532414   |1493424000 |Throwbacks|47        |37         |6        |1            |52        |0  |2017|\n",
      "|false        |null       |11532414   |1493424000 |Throwbacks|47        |37         |6        |1            |52        |0  |2017|\n",
      "|false        |null       |11532414   |1493424000 |Throwbacks|47        |37         |6        |1            |52        |0  |2017|\n",
      "+-------------+-----------+-----------+-----------+----------+----------+-----------+---------+-------------+----------+---+----+\n",
      "only showing top 10 rows\n",
      "\n"
     ]
    }
   ],
   "source": [
    "playlist_with_year.show(10, truncate=False)"
   ]
  },
  {
   "cell_type": "code",
   "execution_count": 20,
   "metadata": {},
   "outputs": [
    {
     "name": "stderr",
     "output_type": "stream",
     "text": [
      "                                                                                \r"
     ]
    }
   ],
   "source": [
    "years = sorted([value[\"year\"] for value in formatted.distinct().collect()])"
   ]
  },
  {
   "cell_type": "code",
   "execution_count": 21,
   "metadata": {},
   "outputs": [],
   "source": [
    "tracks_with_year = playlist_with_year.join(tracks, on=\"pid\")"
   ]
  },
  {
   "cell_type": "code",
   "execution_count": 26,
   "metadata": {},
   "outputs": [],
   "source": [
    "tracks_with_year.createOrReplaceTempView(\"Tracks\")\n",
    "top5.createOrReplaceTempView(\"Top5\")\n",
    "result = spark.sql(\"select Top5.artist_name, year, count(pid) as pop_count from (Top5 inner join Tracks on Tracks.artist_name = Top5.artist_name) group by Top5.artist_name, year\")"
   ]
  },
  {
   "cell_type": "code",
   "execution_count": 27,
   "metadata": {},
   "outputs": [
    {
     "name": "stderr",
     "output_type": "stream",
     "text": [
      "[Stage 31:>                                                        (0 + 4) / 24]\r"
     ]
    },
    {
     "ename": "KeyboardInterrupt",
     "evalue": "",
     "output_type": "error",
     "traceback": [
      "\u001b[0;31m---------------------------------------------------------------------------\u001b[0m",
      "\u001b[0;31mKeyboardInterrupt\u001b[0m                         Traceback (most recent call last)",
      "\u001b[1;32m/home/otviosilva/Documents/Code/TP1/TP1.ipynb Cell 38\u001b[0m line \u001b[0;36m1\n\u001b[0;32m----> <a href='vscode-notebook-cell://ssh-remote%2Bcloudvm/home/otviosilva/Documents/Code/TP1/TP1.ipynb#X53sdnNjb2RlLXJlbW90ZQ%3D%3D?line=0'>1</a>\u001b[0m result\u001b[39m.\u001b[39;49mshow(truncate\u001b[39m=\u001b[39;49m\u001b[39mFalse\u001b[39;49;00m)\n",
      "File \u001b[0;32m~/mambaforge/envs/cloud-comp-spark3.2.0/lib/python3.11/site-packages/pyspark/sql/dataframe.py:502\u001b[0m, in \u001b[0;36mDataFrame.show\u001b[0;34m(self, n, truncate, vertical)\u001b[0m\n\u001b[1;32m    498\u001b[0m \u001b[39mexcept\u001b[39;00m \u001b[39mValueError\u001b[39;00m:\n\u001b[1;32m    499\u001b[0m     \u001b[39mraise\u001b[39;00m \u001b[39mTypeError\u001b[39;00m(\n\u001b[1;32m    500\u001b[0m         \u001b[39m\"\u001b[39m\u001b[39mParameter \u001b[39m\u001b[39m'\u001b[39m\u001b[39mtruncate=\u001b[39m\u001b[39m{}\u001b[39;00m\u001b[39m'\u001b[39m\u001b[39m should be either bool or int.\u001b[39m\u001b[39m\"\u001b[39m\u001b[39m.\u001b[39mformat(truncate))\n\u001b[0;32m--> 502\u001b[0m \u001b[39mprint\u001b[39m(\u001b[39mself\u001b[39;49m\u001b[39m.\u001b[39;49m_jdf\u001b[39m.\u001b[39;49mshowString(n, int_truncate, vertical))\n",
      "File \u001b[0;32m~/mambaforge/envs/cloud-comp-spark3.2.0/lib/python3.11/site-packages/py4j/java_gateway.py:1308\u001b[0m, in \u001b[0;36mJavaMember.__call__\u001b[0;34m(self, *args)\u001b[0m\n\u001b[1;32m   1301\u001b[0m args_command, temp_args \u001b[39m=\u001b[39m \u001b[39mself\u001b[39m\u001b[39m.\u001b[39m_build_args(\u001b[39m*\u001b[39margs)\n\u001b[1;32m   1303\u001b[0m command \u001b[39m=\u001b[39m proto\u001b[39m.\u001b[39mCALL_COMMAND_NAME \u001b[39m+\u001b[39m\\\n\u001b[1;32m   1304\u001b[0m     \u001b[39mself\u001b[39m\u001b[39m.\u001b[39mcommand_header \u001b[39m+\u001b[39m\\\n\u001b[1;32m   1305\u001b[0m     args_command \u001b[39m+\u001b[39m\\\n\u001b[1;32m   1306\u001b[0m     proto\u001b[39m.\u001b[39mEND_COMMAND_PART\n\u001b[0;32m-> 1308\u001b[0m answer \u001b[39m=\u001b[39m \u001b[39mself\u001b[39;49m\u001b[39m.\u001b[39;49mgateway_client\u001b[39m.\u001b[39;49msend_command(command)\n\u001b[1;32m   1309\u001b[0m return_value \u001b[39m=\u001b[39m get_return_value(\n\u001b[1;32m   1310\u001b[0m     answer, \u001b[39mself\u001b[39m\u001b[39m.\u001b[39mgateway_client, \u001b[39mself\u001b[39m\u001b[39m.\u001b[39mtarget_id, \u001b[39mself\u001b[39m\u001b[39m.\u001b[39mname)\n\u001b[1;32m   1312\u001b[0m \u001b[39mfor\u001b[39;00m temp_arg \u001b[39min\u001b[39;00m temp_args:\n",
      "File \u001b[0;32m~/mambaforge/envs/cloud-comp-spark3.2.0/lib/python3.11/site-packages/py4j/java_gateway.py:1038\u001b[0m, in \u001b[0;36mGatewayClient.send_command\u001b[0;34m(self, command, retry, binary)\u001b[0m\n\u001b[1;32m   1036\u001b[0m connection \u001b[39m=\u001b[39m \u001b[39mself\u001b[39m\u001b[39m.\u001b[39m_get_connection()\n\u001b[1;32m   1037\u001b[0m \u001b[39mtry\u001b[39;00m:\n\u001b[0;32m-> 1038\u001b[0m     response \u001b[39m=\u001b[39m connection\u001b[39m.\u001b[39;49msend_command(command)\n\u001b[1;32m   1039\u001b[0m     \u001b[39mif\u001b[39;00m binary:\n\u001b[1;32m   1040\u001b[0m         \u001b[39mreturn\u001b[39;00m response, \u001b[39mself\u001b[39m\u001b[39m.\u001b[39m_create_connection_guard(connection)\n",
      "File \u001b[0;32m~/mambaforge/envs/cloud-comp-spark3.2.0/lib/python3.11/site-packages/py4j/clientserver.py:475\u001b[0m, in \u001b[0;36mClientServerConnection.send_command\u001b[0;34m(self, command)\u001b[0m\n\u001b[1;32m    473\u001b[0m \u001b[39mtry\u001b[39;00m:\n\u001b[1;32m    474\u001b[0m     \u001b[39mwhile\u001b[39;00m \u001b[39mTrue\u001b[39;00m:\n\u001b[0;32m--> 475\u001b[0m         answer \u001b[39m=\u001b[39m smart_decode(\u001b[39mself\u001b[39m\u001b[39m.\u001b[39mstream\u001b[39m.\u001b[39mreadline()[:\u001b[39m-\u001b[39m\u001b[39m1\u001b[39m])\n\u001b[1;32m    476\u001b[0m         logger\u001b[39m.\u001b[39mdebug(\u001b[39m\"\u001b[39m\u001b[39mAnswer received: \u001b[39m\u001b[39m{0}\u001b[39;00m\u001b[39m\"\u001b[39m\u001b[39m.\u001b[39mformat(answer))\n\u001b[1;32m    477\u001b[0m         \u001b[39m# Happens when a the other end is dead. There might be an empty\u001b[39;00m\n\u001b[1;32m    478\u001b[0m         \u001b[39m# answer before the socket raises an error.\u001b[39;00m\n",
      "File \u001b[0;32m~/mambaforge/envs/cloud-comp-spark3.2.0/lib/python3.11/socket.py:706\u001b[0m, in \u001b[0;36mSocketIO.readinto\u001b[0;34m(self, b)\u001b[0m\n\u001b[1;32m    704\u001b[0m \u001b[39mwhile\u001b[39;00m \u001b[39mTrue\u001b[39;00m:\n\u001b[1;32m    705\u001b[0m     \u001b[39mtry\u001b[39;00m:\n\u001b[0;32m--> 706\u001b[0m         \u001b[39mreturn\u001b[39;00m \u001b[39mself\u001b[39;49m\u001b[39m.\u001b[39;49m_sock\u001b[39m.\u001b[39;49mrecv_into(b)\n\u001b[1;32m    707\u001b[0m     \u001b[39mexcept\u001b[39;00m timeout:\n\u001b[1;32m    708\u001b[0m         \u001b[39mself\u001b[39m\u001b[39m.\u001b[39m_timeout_occurred \u001b[39m=\u001b[39m \u001b[39mTrue\u001b[39;00m\n",
      "\u001b[0;31mKeyboardInterrupt\u001b[0m: "
     ]
    }
   ],
   "source": [
    "result.show(truncate=False)"
   ]
  },
  {
   "cell_type": "code",
   "execution_count": 40,
   "metadata": {},
   "outputs": [
    {
     "name": "stderr",
     "output_type": "stream",
     "text": [
      "[Stage 32:>                                                        (0 + 4) / 24]\r"
     ]
    }
   ],
   "source": [
    "df = result.toPandas()\n",
    "plt.figure(figsize=(12, 6))\n",
    "sns.lineplot(data=df, x=\"year\", y=\"pop_count\", hue=\"artist_name\")\n",
    "plt.show()"
   ]
  },
  {
   "cell_type": "code",
   "execution_count": null,
   "metadata": {},
   "outputs": [],
   "source": []
  }
 ],
 "metadata": {
  "kernelspec": {
   "display_name": "cloud-comp",
   "language": "python",
   "name": "python3"
  },
  "language_info": {
   "codemirror_mode": {
    "name": "ipython",
    "version": 3
   },
   "file_extension": ".py",
   "mimetype": "text/x-python",
   "name": "python",
   "nbconvert_exporter": "python",
   "pygments_lexer": "ipython3",
   "version": "3.11.5"
  },
  "orig_nbformat": 4
 },
 "nbformat": 4,
 "nbformat_minor": 2
}
